{
 "cells": [
  {
   "cell_type": "code",
   "execution_count": 3,
   "id": "df77e20f",
   "metadata": {},
   "outputs": [
    {
     "data": {
      "text/plain": [
       "True"
      ]
     },
     "execution_count": 3,
     "metadata": {},
     "output_type": "execute_result"
    }
   ],
   "source": [
    "import cv2\n",
    "f = open(\"thresh2.txt\", \"r\")\n",
    "\n",
    "thresh = [[ [0 for col in range(256)] for col in range(256)] for row in range(256)]\n",
    "tt = []\n",
    "for i in f:\n",
    "    l = i.strip()\n",
    "    tt.append(float(l))\n",
    "cnt1=len(tt);\n",
    "cnt2=0;\n",
    "for x in range(256):\n",
    "    if cnt2>=cnt1:\n",
    "            break\n",
    "    for y in range (256):\n",
    "        if cnt2>=cnt1:\n",
    "                break\n",
    "        for z in range(256):\n",
    "            if cnt2>=cnt1:\n",
    "                break\n",
    "            thresh[x][y][z]=tt[cnt2]\n",
    "            cnt2=cnt2+1\n",
    "#     print(f1);\n",
    "#     print(f2);\n",
    "img1=cv2.imread('tasvodai.jpg')\n",
    "#     cv2.imshow('image', img2);\n",
    "#     cv2.imshow('image', img1);\n",
    "#     cv2.waitKey(0)        \n",
    "#     cv2.destroyAllWindows()\n",
    "(row, col) = img1.shape[0:2]\n",
    "for x in range(row):\n",
    "    for y in range(col):\n",
    "        id1=img1[x,y,0];\n",
    "        id2=img1[x,y,1];\n",
    "        id3=img1[x,y,2];\n",
    "#         print(thresh[id1][id2][id3])\n",
    "        if thresh[id1][id2][id3]>.15:\n",
    "            img1[x,y,0]=255\n",
    "            img1[x,y,1]=255\n",
    "            img1[x,y,2]=255\n",
    "        else:\n",
    "            img1[x,y,0]=0\n",
    "            img1[x,y,1]=0\n",
    "            img1[x,y,2]=0\n",
    "            \n",
    "filename = 'tas.jpg'\n",
    "cv2.imwrite(filename, img1)\n",
    "\n",
    "# for x in range(256):\n",
    "#     for y in range (256):\n",
    "#         for z in range(256):\n",
    "#             thresh[x][y][z]=thresh[x][y][z]+(cntarrays[x][y][z]/cntarrayns[x][y][z])\n",
    "\n",
    "           "
   ]
  },
  {
   "cell_type": "code",
   "execution_count": null,
   "id": "ad885bda",
   "metadata": {},
   "outputs": [],
   "source": []
  },
  {
   "cell_type": "code",
   "execution_count": null,
   "id": "d6c9843a",
   "metadata": {},
   "outputs": [],
   "source": []
  },
  {
   "cell_type": "code",
   "execution_count": null,
   "id": "078f8621",
   "metadata": {},
   "outputs": [],
   "source": []
  }
 ],
 "metadata": {
  "kernelspec": {
   "display_name": "Python 3 (ipykernel)",
   "language": "python",
   "name": "python3"
  },
  "language_info": {
   "codemirror_mode": {
    "name": "ipython",
    "version": 3
   },
   "file_extension": ".py",
   "mimetype": "text/x-python",
   "name": "python",
   "nbconvert_exporter": "python",
   "pygments_lexer": "ipython3",
   "version": "3.8.5"
  }
 },
 "nbformat": 4,
 "nbformat_minor": 5
}
