{
 "cells": [
  {
   "cell_type": "code",
   "execution_count": 1,
   "id": "4da92942",
   "metadata": {},
   "outputs": [
    {
     "name": "stdout",
     "output_type": "stream",
     "text": [
      "done\n",
      "554\n"
     ]
    }
   ],
   "source": [
    "import cv2\n",
    "import os\n",
    "import time\n",
    "start_time = time.time()\n",
    "directory = os.listdir('Train')\n",
    "r=len(directory)\n",
    "count=0;\n",
    "n=0\n",
    "cnt=(r-n)/2;\n",
    "thresh = [[ [0 for col in range(256)] for col in range(256)] for row in range(256)]\n",
    "cntarrayns = [[ [1 for col in range(256)] for col in range(256)] for row in range(256)]\n",
    "cntarrays = [[ [1 for col in range(256)] for col in range(256)] for row in range(256)]\n",
    "for itr in range(0,r-2,2):\n",
    "    count=count+1\n",
    "    f1='Train\\\\'+directory[itr]\n",
    "    f2='Train\\\\'+directory[itr+1]\n",
    "#     print(f1);\n",
    "#     print(f2);\n",
    "    img1=cv2.imread(f1)\n",
    "    img2=cv2.imread(f2)\n",
    "#     cv2.imshow('image', img2);\n",
    "#     cv2.imshow('image', img1);\n",
    "#     cv2.waitKey(0)        \n",
    "#     cv2.destroyAllWindows()\n",
    "    (row, col) = img1.shape[0:2]\n",
    "    for x in range(row):\n",
    "        for y in range(col):\n",
    "            id1=img1[x,y,0];\n",
    "            id2=img1[x,y,1];\n",
    "            id3=img1[x,y,2];\n",
    "            id11=img2[x,y,0];\n",
    "            id21=img2[x,y,1];\n",
    "            id31=img2[x,y,2];\n",
    "            if id1>=255 and id2>=255 and id3>=255:\n",
    "                cntarrayns[id11][id21][id31]=cntarrayns[id11][id21][id31]+1\n",
    "            else:\n",
    "                cntarrays[id11][id21][id31]=cntarrays[id11][id21][id31]+1\n",
    " \n",
    "#     for x in range(256):\n",
    "#         for y in range (256):\n",
    "#             for z in range(256):\n",
    "#                 thresh[x][y][z]=thresh[x][y][z]+(cntarrays[x][y][z]/cntarrayns[x][y][z])\n",
    "\n",
    "f = open(\"thresh4ones.txt\", \"w\")\n",
    "for x in range(256):\n",
    "    for y in range (256):\n",
    "        for z in range(256):\n",
    "            thresh[x][y][z]=(cntarrays[x][y][z]/cntarrayns[x][y][z])\n",
    "            f.write(str(thresh[x][y][z]))\n",
    "            f.write('\\n')\n",
    "        \n",
    "\n",
    "\n",
    "print(\"done\")\n",
    "print(count)\n",
    "print(\"--- %s seconds ---\" % (time.time() - start_time))"
   ]
  },
  {
   "cell_type": "code",
   "execution_count": null,
   "id": "cc9c660a",
   "metadata": {},
   "outputs": [],
   "source": []
  }
 ],
 "metadata": {
  "kernelspec": {
   "display_name": "Python 3 (ipykernel)",
   "language": "python",
   "name": "python3"
  },
  "language_info": {
   "codemirror_mode": {
    "name": "ipython",
    "version": 3
   },
   "file_extension": ".py",
   "mimetype": "text/x-python",
   "name": "python",
   "nbconvert_exporter": "python",
   "pygments_lexer": "ipython3",
   "version": "3.8.5"
  }
 },
 "nbformat": 4,
 "nbformat_minor": 5
}
